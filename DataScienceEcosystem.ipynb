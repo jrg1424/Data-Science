{
 "cells": [
  {
   "cell_type": "markdown",
   "id": "7f463e78-5c99-4397-9540-525daff97ba2",
   "metadata": {
    "tags": []
   },
   "source": [
    "# Data Science Tools and Ecosystem"
   ]
  },
  {
   "cell_type": "markdown",
   "id": "3d10b34f-f252-4d1d-be1e-20ca9cc7e3ca",
   "metadata": {},
   "source": [
    "In this notebook Data Science Tools and Ecosystems are summarized."
   ]
  },
  {
   "cell_type": "markdown",
   "id": "9bd38b5f-fb1f-49de-9979-4718ca7820e0",
   "metadata": {
    "tags": []
   },
   "source": [
    "Some of the popular languages that Data Scientists use are:\n",
    "\n",
    "    1. Python\n",
    "    2. R\n",
    "    3. SQL"
   ]
  },
  {
   "cell_type": "markdown",
   "id": "1cc11c74-81cd-46c5-8a21-014dd18abeb9",
   "metadata": {},
   "source": [
    "Some of the commonly used libraries used by Data Scientists include:\n",
    "    \n",
    "\n",
    "    1. TensorFlow\n",
    "    2. NumPy\n",
    "    3. SciPy"
   ]
  },
  {
   "cell_type": "markdown",
   "id": "570244a3-6740-4ba6-aec6-8d46610a2df2",
   "metadata": {
    "tags": []
   },
   "source": [
    "| Data Science Tools |\n",
    "|--------------------|\n",
    "|Tensor Flow|\n",
    "|Jupyter Notebook|\n",
    "|Mongo DB|"
   ]
  },
  {
   "cell_type": "markdown",
   "id": "77404eb1-78fa-44be-b9c6-d749d5709a20",
   "metadata": {},
   "source": [
    "### Below are a few examples of evaluating arithmetic expression in python."
   ]
  },
  {
   "cell_type": "code",
   "execution_count": 4,
   "id": "c5a74dba-01f1-491e-81ad-25f1b47fdb96",
   "metadata": {
    "tags": []
   },
   "outputs": [
    {
     "data": {
      "text/plain": [
       "17"
      ]
     },
     "execution_count": 4,
     "metadata": {},
     "output_type": "execute_result"
    }
   ],
   "source": [
    "#This is a simple arithmetic expression to multiply then add integers.\n",
    "\n",
    "(3*4)+5"
   ]
  },
  {
   "cell_type": "code",
   "execution_count": 5,
   "id": "dde54b2d-0821-4daa-8e92-dd3668ac5607",
   "metadata": {
    "tags": []
   },
   "outputs": [
    {
     "data": {
      "text/plain": [
       "3.3333333333333335"
      ]
     },
     "execution_count": 5,
     "metadata": {},
     "output_type": "execute_result"
    }
   ],
   "source": [
    "#This will convert 200 minutes to hours by dividing by 60.\n",
    "\n",
    "200/60"
   ]
  },
  {
   "cell_type": "markdown",
   "id": "9935c55b-4668-45cc-96f4-4d7f4bad6b30",
   "metadata": {},
   "source": [
    "**Objectives:**\n",
    "\n",
    "    -List Languages for data science\n",
    "    -List commonly used libraries in data science\n",
    "    -List Data Science Tools"
   ]
  },
  {
   "cell_type": "markdown",
   "id": "96efe2f3-8b96-477e-a52a-16fc90d8e2be",
   "metadata": {},
   "source": [
    "##Author\n",
    "\n",
    "Jason Gracias"
   ]
  },
  {
   "cell_type": "code",
   "execution_count": null,
   "id": "d2ddbb35-6f05-4c48-9581-4f2c5687b8f0",
   "metadata": {},
   "outputs": [],
   "source": []
  }
 ],
 "metadata": {
  "kernelspec": {
   "display_name": "Python",
   "language": "python",
   "name": "conda-env-python-py"
  },
  "language_info": {
   "codemirror_mode": {
    "name": "ipython",
    "version": 3
   },
   "file_extension": ".py",
   "mimetype": "text/x-python",
   "name": "python",
   "nbconvert_exporter": "python",
   "pygments_lexer": "ipython3",
   "version": "3.7.12"
  }
 },
 "nbformat": 4,
 "nbformat_minor": 5
}
